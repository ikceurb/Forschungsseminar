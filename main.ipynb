{
 "cells": [
  {
   "cell_type": "markdown",
   "id": "2c8b221f",
   "metadata": {},
   "source": [
    "# I. SETUP UND DATENSTRUKTUR"
   ]
  },
  {
   "cell_type": "code",
   "execution_count": null,
   "id": "af60cb34",
   "metadata": {},
   "outputs": [],
   "source": [
    "import gurobipy as gp\n",
    "from gurobipy import GRB\n",
    "\n",
    "# --- SETS (Mengen) ---\n",
    "S = ['S1', 'S2', 'S3']                   # S: Menge der Stationen (Bahnhöfe), indiziert durch i\n",
    "A = ['B1', 'B2', 'B3']                   # A: Menge der Blöcke, indiziert durch a\n",
    "K = ['Shipment_A', 'Shipment_B']         # K: Menge der Sendungen (O-D-Paare), indiziert durch k\n",
    "\n",
    "# Qk: Menge der Kandidaten-Pfade q, assoziiert mit Sendung k\n",
    "Qk = {\n",
    "    'Shipment_A': ['P1', 'P2'],          # Pfade P1, P2 für Sendung A\n",
    "    'Shipment_B': ['P3']                 # Pfad P3 für Sendung B\n",
    "}"
   ]
  },
  {
   "cell_type": "markdown",
   "id": "b25913a3",
   "metadata": {},
   "source": [
    "# II. PARAMETER LADEN \n",
    "\n",
    "Notationen analog dem Paper von Hasany, Shafahi (2018)\n",
    "\n",
    "Im Folgenden die Parameter für ein Minimalbeispiel mit 3 Stationen, 3 Blocks und 3 Shipments"
   ]
  },
  {
   "cell_type": "code",
   "execution_count": null,
   "id": "247be1ef",
   "metadata": {},
   "outputs": [],
   "source": [
    "# Skalare Parameter\n",
    "PHI = 500                   # Weight factor used to convert the vehicle running time to a monetary value ($/min/car)\n",
    "PH = 20160                  # Given planning horizon (min)\n",
    "B = 1100000000              # A sufficiently large number calculated from the given data\n",
    "EPSILON = 0.001             # A sufficiently small number calculated from the given data\n",
    "R = 10                      # Maximum number of trains that can move through each block \n",
    "\n",
    "# --- Hilfsmengen für die Indizierung ---\n",
    "R_set = range(1, R + 2)                         # R_set: binäre Kodierung von n_a (r=1 bis R+1, für n_a=0 bis R)                  \n",
    "KPQ = [(k, q) for k in K for q in Qk[k]]        # Alle gültigen (Sendung, Pfad) Paare (k, q)\n",
    "\n",
    "# Block-spezifische Parameter\n",
    "t_a = {'B1': 500, 'B2': 400, 'B3': 700}                     # Traveling time through block a ∈ A (min)\n",
    "w_a = {'B1': 60, 'B2': 90, 'B3': 50}                        # Time required to separate and sort each car inside station i ∈ S , which is the starting station of block a ∈ A (min)\n",
    "chi_a = {'B1': 10000, 'B2': 5000, 'B3': 20000}              # Fixed operating cost per each train moving on block a ∈ A ($/train)\n",
    "u_a = {'B1': 100, 'B2': 100, 'B3': 100}                     # Pulling capacity of each train moving through block a ∈ A (car/train)\n",
    "\n",
    "# Stations-spezifische Parameter\n",
    "V_i = {'S1': 5000, 'S2': 3000, 'S3': 4000}                  # Maximum number of cars handled inside station i ∈ S (car)\n",
    "N_i = {'S1': 20, 'S2': 15, 'S3': 10}                        # Maximum number of trains that can be dispatched from station i ∈ S (train)\n",
    "\n",
    "# Sendungs-spezifische Parameter\n",
    "d_k = {'Shipment_A': 500, 'Shipment_B': 300}                # Demand associated with shipment k ∈ K during the planning horizon (car)\n",
    "T_k = {'Shipment_A': 10000, 'Shipment_B': 10000}            # Maximum allowable travel time associated with shipment k ∈ K (min)\n",
    "\n",
    "# --- Binäre Parameter (Relationen) ---\n",
    "xi_ia = {\n",
    "    ('S1', 'B1'): 1, ('S1', 'B2'): 0, ('S1', 'B3'): 1,\n",
    "    ('S2', 'B1'): 0, ('S2', 'B2'): 1, ('S2', 'B3'): 0,\n",
    "    ('S3', 'B1'): 0, ('S3', 'B2'): 0, ('S3', 'B3'): 0,\n",
    "}                                                                                                       # 1 if station i ∈ S is the starting station of block a ∈ A and 0 otherwise\n",
    "delta_kqa = {\n",
    "    ('Shipment_A', 'P1', 'B1'): 1, ('Shipment_A', 'P1', 'B2'): 1, ('Shipment_A', 'P1', 'B3'): 0,\n",
    "    ('Shipment_A', 'P2', 'B1'): 0, ('Shipment_A', 'P2', 'B2'): 0, ('Shipment_A', 'P2', 'B3'): 1,\n",
    "    ('Shipment_B', 'P3', 'B1'): 0, ('Shipment_B', 'P3', 'B2'): 1, ('Shipment_B', 'P3', 'B3'): 0,\n",
    "}                                                                                                       # 1 if block a ∈ A is on the blocking path q ∈ Q k and 0 otherwise\n",
    "\n",
    "# --- Abgeleitete Parameter ---\n",
    "\n",
    "C_kq = {}                                                      #Time spent for classifying inside the yards on blocking path q ∈ Q k \n",
    "for k, q in KPQ:\n",
    "    C_kq[(k, q)] = sum( (t_a[a] + w_a[a]) * delta_kqa[(k, q, a)] for a in A if delta_kqa[(k, q, a)] == 1 )\n",
    "\n",
    "\n",
    "# f_r: Wert für Linearisierung der Wartezeit 1/(n_a + epsilon)\n",
    "f_r = {r: 1.0 / ((r - 1) + EPSILON) for r in R_set}"
   ]
  },
  {
   "cell_type": "markdown",
   "id": "300245e4",
   "metadata": {},
   "source": [
    "# III. MODELL-DEFINITION"
   ]
  },
  {
   "cell_type": "code",
   "execution_count": null,
   "id": "30c9c8a4",
   "metadata": {},
   "outputs": [],
   "source": [
    "model = gp.Model(\"Railroad_Blocking_Problem_MIP\")\n",
    "\n",
    "# ENTSCHEIDUNGSVARIABLEN\n",
    "\n",
    "# 3.1. Fluss- und Pfadvariablen\n",
    "# v[k, q]: Wagenfluss (Car flows) auf Pfad q für Sendung k (Continuous, v_q^k)\n",
    "v = model.addVars(KPQ, name=\"Flow\", vtype=GRB.CONTINUOUS, lb=0)\n",
    "\n",
    "# x[k, q]: Auswahl des Pfades (1=gewählt, 0=nicht gewählt) für Sendung k (Binary, x_q^k)\n",
    "x = model.addVars(KPQ, name=\"Path_Select\", vtype=GRB.BINARY)\n",
    "\n",
    "# 3.2. Blockvariablen\n",
    "# z[a]: Auswahl des Blocks (1=gewählt, 0=nicht gewählt) (Binary, z_a)\n",
    "z = model.addVars(A, name=\"Block_Select\", vtype=GRB.BINARY)\n",
    "\n",
    "# bn[a, r]: Binäre Variable zur Kodierung der Anzahl Züge n_a. \n",
    "# 1, wenn n_a = r-1 (z.B. r=1 => n_a=0; r=2 => n_a=1) (Binary, bn_r^a)\n",
    "bn = model.addVars(A, R_set, name=\"Train_Number_Binary\", vtype=GRB.BINARY)\n"
   ]
  },
  {
   "cell_type": "markdown",
   "id": "ab23eb85",
   "metadata": {},
   "source": [
    "# IV. ZIELFUNKTION"
   ]
  },
  {
   "cell_type": "code",
   "execution_count": null,
   "id": "5d783305",
   "metadata": {},
   "outputs": [],
   "source": [
    "# Shipping Cost: Monatärer Wert der Zeit (Reisezeit + Klassifizierung)\n",
    "# Sum_{k in K} Sum_{q in Q^k} PHI * C_q^k * v_q^k\n",
    "shipping_cost = gp.quicksum(PHI * C_kq[k, q] * v[k, q] for k, q in KPQ)\n",
    "\n",
    "# Operating Cost: Fixkosten für das Betreiben von Zügen\n",
    "# Sum_{a in A} chi_a * n_a\n",
    "# n_a ist durch die binäre Summe ersetzt: Sum_{r=1}^{R+1} (r-1) * bn_r^a\n",
    "operating_cost = gp.quicksum(chi_a[a] * gp.quicksum((r - 1) * bn[a, r] for r in R_set) for a in A)\n",
    "\n",
    "# Minimierung der Gesamtkosten\n",
    "model.setObjective(shipping_cost + operating_cost, GRB.MINIMIZE)"
   ]
  },
  {
   "cell_type": "markdown",
   "id": "81e19e8b",
   "metadata": {},
   "source": [
    "# V. NEBENBEDINGUNGEN (CONSTRAINTS)\n"
   ]
  },
  {
   "cell_type": "code",
   "execution_count": null,
   "id": "e6463d92",
   "metadata": {},
   "outputs": [],
   "source": [
    "# 5.1. Block-Pfad-Konsistenz (Gleichung (2))\n",
    "# Sum_{k,q} delta_a^q * x_q^k <= (Sum_{k,q} delta_a^q) * z_a\n",
    "# Wenn ein Pfad x_q^k (der Block a nutzt) gewählt wird, MUSS Block z_a=1 sein.\n",
    "model.addConstrs(\n",
    "    (gp.quicksum(delta_kqa[k, q, a] * x[k, q] for k, q in KPQ if delta_kqa[k, q, a] == 1) <=\n",
    "     gp.quicksum(delta_kqa[k, q, a] for k, q in KPQ if delta_kqa[k, q, a] == 1) * z[a]\n",
    "     for a in A), name=\"Consist_BlockPath(2)\"\n",
    ")"
   ]
  },
  {
   "cell_type": "code",
   "execution_count": null,
   "id": "2ce1c8bc",
   "metadata": {},
   "outputs": [],
   "source": [
    "# 5.2. Nachfrageerfüllung (Gleichung (3))\n",
    "# Sum_{q in Q^k} v_q^k = d^k\n",
    "# Der gesamte Fluss für jede Sendung k muss die Nachfrage d^k erfüllen.\n",
    "model.addConstrs(\n",
    "    (gp.quicksum(v[k, q] for q in Qk[k]) == d_k[k]\n",
    "     for k in K), name=\"Demand_Fullfillment(3)\"\n",
    ")"
   ]
  },
  {
   "cell_type": "code",
   "execution_count": null,
   "id": "0520ed00",
   "metadata": {},
   "outputs": [],
   "source": [
    "# 5.3. Wagen-Kapazität (Gleichung (4))\n",
    "# Sum_{a in A} Sum_{k,q} xi_i^a * delta_a^q * v_q^k <= V(i)\n",
    "# Die Gesamtzahl der abgehenden Wagen (über alle Blöcke a, die in i beginnen) darf V(i) nicht überschreiten.\n",
    "model.addConstrs(\n",
    "    (gp.quicksum(xi_ia[i, a] * delta_kqa[k, q, a] * v[k, q] \n",
    "                 for a in A for k, q in KPQ if xi_ia[i, a] == 1 and delta_kqa[k, q, a] == 1) \n",
    "     <= V_i[i]\n",
    "     for i in S), name=\"Car_Capacity(4)\"\n",
    ")"
   ]
  },
  {
   "cell_type": "code",
   "execution_count": null,
   "id": "fda7e4fb",
   "metadata": {},
   "outputs": [],
   "source": [
    "# 5.4. Pfad-Fluss-Verknüpfung (Gleichung (5))\n",
    "# v_q^k <= d^k * x_q^k\n",
    "# Verknüpft den kontinuierlichen Fluss v mit der binären Auswahl x: Fluss > 0 nur wenn Pfad x=1.\n",
    "model.addConstrs(\n",
    "    (v[k, q] <= d_k[k] * x[k, q]\n",
    "     for k, q in KPQ), name=f\"Path_Flow_Link(5)[{k}]\"\n",
    ")"
   ]
  },
  {
   "cell_type": "code",
   "execution_count": null,
   "id": "dad746d9",
   "metadata": {},
   "outputs": [],
   "source": [
    "# 5.5. Zug-Wagen-Kapazität (Linearisierte Gleichung (18), ersetzt (6))\n",
    "# Sum_{k,q} delta_a^q * v_q^k <= u_a * n_a\n",
    "# Der Wagenfluss durch Block a ist begrenzt durch die Zugkapazität (u_a) multipliziert mit der Anzahl der Züge (n_a).\n",
    "model.addConstrs(\n",
    "    (gp.quicksum(delta_kqa[k, q, a] * v[k, q] for k, q in KPQ if delta_kqa[k, q, a] == 1) \n",
    "     <= u_a[a] * gp.quicksum((r - 1) * bn[a, r] for r in R_set)\n",
    "     for a in A), name=\"Train_Car_Capacity_Lin(18)\"\n",
    ")"
   ]
  },
  {
   "cell_type": "code",
   "execution_count": null,
   "id": "ccf2c156",
   "metadata": {},
   "outputs": [],
   "source": [
    "# 5.6. Block-Zug-Existenz (Linearisierte Gleichung (19), ersetzt (7))\n",
    "# n_a >= z_a\n",
    "# Wenn Block a gewählt (z_a=1), muss mindestens ein Zug (n_a >= 1) zugewiesen werden.\n",
    "model.addConstrs(\n",
    "    (gp.quicksum((r - 1) * bn[a, r] for r in R_set) >= z[a]\n",
    "     for a in A), name=\"Block_Train_Exist_Lin(19)\"\n",
    ")"
   ]
  },
  {
   "cell_type": "code",
   "execution_count": null,
   "id": "61e8dcd6",
   "metadata": {},
   "outputs": [],
   "source": [
    "# 5.7. Zug-Abfahrts-Kapazität (Linearisierte Gleichung (20), ersetzt (8))\n",
    "# Sum_{a in A} xi_i^a * n_a <= N(i)\n",
    "# Die Gesamtzahl der abfahrenden Züge (n_a) von Station i darf N(i) nicht überschreiten.\n",
    "model.addConstrs(\n",
    "    (gp.quicksum(xi_ia[i, a] * (r - 1) * bn[a, r] for a in A for r in R_set if xi_ia[i, a] == 1) \n",
    "     <= N_i[i]\n",
    "     for i in S), name=\"Train_Dispatch_Capacity_Lin(20)\"\n",
    ")"
   ]
  },
  {
   "cell_type": "code",
   "execution_count": null,
   "id": "4b94e680",
   "metadata": {},
   "outputs": [],
   "source": [
    "# 5.8. Maximale Reisezeit (Linearisierte Gleichung (21), ersetzt (9))\n",
    "# C_q^k + Sum_{a in A} (PH/2) * delta_a^q * (1 / (n_a + epsilon)) <= T^k + B * (1 - x_q^k)\n",
    "# Die Reisezeit (Klassifizierung + Wartezeit) muss unter dem Limit T^k liegen, wenn der Pfad x_q^k=1 gewählt wird.\n",
    "# Der nichtlineare Term (1 / (n_a + epsilon)) wird durch Sum_{r} f_r * bn_r^a ersetzt.\n",
    "model.addConstrs(\n",
    "    (C_kq[k, q] + gp.quicksum((PH / 2.0) * delta_kqa[k, q, a] * gp.quicksum(f_r[r] * bn[a, r] for r in R_set) \n",
    "                             for a in A if delta_kqa[k, q, a] == 1)\n",
    "     <= T_k[k] + B * (1 - x[k, q])\n",
    "     for k, q in KPQ), name=\"Max_Travel_Time_Lin(21)\"\n",
    ")"
   ]
  },
  {
   "cell_type": "code",
   "execution_count": null,
   "id": "d3b83dd3",
   "metadata": {},
   "outputs": [],
   "source": [
    "# 5.9. Binäre Auswahl für n_a (Gleichung (15))\n",
    "# Sum_{r=1}^{R+1} bn_r^a = 1\n",
    "# Stellt sicher, dass für jeden Block a genau ein Wert für n_a (d.h. genau ein bn_r^a) ausgewählt wird.\n",
    "model.addConstrs(\n",
    "    (gp.quicksum(bn[a, r] for r in R_set) == 1\n",
    "     for a in A), name=\"Train_Number_Binary_Select(15)\"\n",
    ")"
   ]
  },
  {
   "cell_type": "markdown",
   "id": "bc8aee3c",
   "metadata": {},
   "source": [
    "# VI. LÖSUNG UND ANALYSE"
   ]
  },
  {
   "cell_type": "code",
   "execution_count": null,
   "id": "a12e93be",
   "metadata": {},
   "outputs": [],
   "source": [
    "# MODELLOPTIMIERUNG \n",
    "model.optimize()\n",
    "\n",
    "# LÖSUNG AUSGEBEN\n",
    "if model.status == GRB.OPTIMAL:\n",
    "    print(\"\\n--- Optimale Lösung gefunden ---\")\n",
    "    print(f\"Gesamtkosten: {model.objVal:.2f}\")\n",
    "\n",
    "    print(\"\\nAusgewählte Pfade und Flüsse (v_q^k > 0):\")\n",
    "    for k, q in KPQ:\n",
    "        if v[k, q].X > 0.01: # Zeige nur Flüsse > 0\n",
    "            print(f\"  Sendung {k}, Pfad {q}: Fluss = {v[k, q].X:.0f} Wagen\")\n",
    "\n",
    "    print(\"\\nAusgewählte Blöcke und Zuganzahl (n_a > 0):\")\n",
    "    for a in A:\n",
    "        # Berechne n_a aus den bn_r^a Variablen\n",
    "        n_a_val = 0\n",
    "        for r in R_set:\n",
    "            if bn[a, r].X > 0.9: # Wenn bn_r^a = 1\n",
    "                n_a_val = r - 1\n",
    "                break\n",
    "        \n",
    "        if n_a_val > 0:\n",
    "            print(f\"  Block {a}: {n_a_val} Züge\")\n",
    "\n",
    "elif model.status == GRB.INFEASIBLE:\n",
    "    print(\"\\nModell ist unlösbar.\")\n",
    "    \n",
    "    # # IIS DIAGNOSE \n",
    "    # model.computeIIS()\n",
    "    # model.write(\"model_iis.ilp\")\n",
    "\n",
    "else:\n",
    "    print(f\"\\nOptimierung beendet mit Status: {model.status}\")\n",
    "\n",
    "# Modelldatei speichern\n",
    "model.write(\"railroad_blocking_model.lp\")"
   ]
  }
 ],
 "metadata": {
  "kernelspec": {
   "display_name": "thesis",
   "language": "python",
   "name": "python3"
  },
  "language_info": {
   "codemirror_mode": {
    "name": "ipython",
    "version": 3
   },
   "file_extension": ".py",
   "mimetype": "text/x-python",
   "name": "python",
   "nbconvert_exporter": "python",
   "pygments_lexer": "ipython3",
   "version": "3.13.7"
  }
 },
 "nbformat": 4,
 "nbformat_minor": 5
}
